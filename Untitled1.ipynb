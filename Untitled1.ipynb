{
 "cells": [
  {
   "cell_type": "markdown",
   "metadata": {},
   "source": [
    "## How to Perform PCA ?\n",
    "\n",
    "PCA is a process involving the series of steps leading to a set of reduced dimensions as seen above. By rotating an n-dimensional data, PCA puts it on a new set of axis: pc1, pc2 … pcn (pc = principle compoenent). In general, the rotation of axes as we saw above, is achieved through matrix manipulation. \n",
    "\n",
    "> PCA helps us create an n dimensional rotation matrix in such a way as to maximise the spread/variance along the new axis pc1, pc2 … pcN, sorted from largest to smallest.\n",
    "\n",
    "The steps to perform PCA are:\n",
    "\n",
    "- Standardize the dataset features in order to centre it at the origin\n",
    "- Calculate the covariance matrix\n",
    "- Find the principal components through Eigen Decomposition\n",
    "- Reduce the data using the selected principal components"
   ]
  },
  {
   "cell_type": "code",
   "execution_count": null,
   "metadata": {},
   "outputs": [],
   "source": []
  },
  {
   "cell_type": "code",
   "execution_count": null,
   "metadata": {},
   "outputs": [],
   "source": []
  },
  {
   "cell_type": "code",
   "execution_count": null,
   "metadata": {},
   "outputs": [],
   "source": []
  },
  {
   "cell_type": "code",
   "execution_count": null,
   "metadata": {},
   "outputs": [],
   "source": []
  },
  {
   "cell_type": "markdown",
   "metadata": {},
   "source": [
    "### Objectives\n",
    "YWBAT\n",
    "* explain the steps in the PCA algorithm (Principal Component Analysis)\n",
    "    * Start with Matrix A\n",
    "    * Standardize Matrix A\n",
    "    * MC = Cov(M) -> because MC is a square matrix\n",
    "    * $MC = E \\lambda E^T$\n",
    "    * Get principal component (e1) from  E then get e2 from E.\n",
    "    * Project our data onto the plane e1 and e2. \n",
    "    * Repeat until desired dimensions are met.\n",
    "* explain cases to use PCA\n",
    "    * Visualize data\n",
    "    * Cluster analysis\n",
    "    * Reduces multicollinearity\n",
    "* Pros and Cons of PCA\n",
    "    * Pro - Good for visualizations\n",
    "    * Pro - Smaller dimensions\n",
    "    * Con - Lose information (interpretability) "
   ]
  },
  {
   "cell_type": "markdown",
   "metadata": {},
   "source": [
    "Scenario\n",
    "Dataset has 100k rows and 500 columns\n",
    "\n",
    "Potential Issues\n",
    "- Lots of data\n",
    "- Hard to get an idea of what is going on\n",
    "\n",
    "\n",
    "Dimensionality Reduction\n",
    "- Reduces the data...can you be more specific?\n",
    "- Reduces the data how? \n",
    "- Reduces the features in our dataset (columns)"
   ]
  },
  {
   "cell_type": "markdown",
   "metadata": {},
   "source": [
    "Key Terms\n",
    "- Orthogonal - Perpendicularity, ex two vectors are orthogonal if the angle between them is 90 degrees\n",
    "- Normal Vector - Vector with a length of 1\n",
    "- Normal Matrix - Every row vector has a length of 1\n",
    "- Square Matrix - Same number of rows and columns\n",
    "- Orthogonal Matrix - Every vector in our Matrix is orthgonal to every other vector\n",
    "- Orthonormal Matrix - A Matrix that is both orthonal and normal"
   ]
  },
  {
   "cell_type": "code",
   "execution_count": null,
   "metadata": {},
   "outputs": [],
   "source": []
  },
  {
   "cell_type": "code",
   "execution_count": null,
   "metadata": {},
   "outputs": [],
   "source": []
  },
  {
   "cell_type": "code",
   "execution_count": null,
   "metadata": {},
   "outputs": [],
   "source": []
  },
  {
   "cell_type": "code",
   "execution_count": null,
   "metadata": {},
   "outputs": [],
   "source": []
  },
  {
   "cell_type": "code",
   "execution_count": null,
   "metadata": {},
   "outputs": [],
   "source": []
  },
  {
   "cell_type": "code",
   "execution_count": null,
   "metadata": {},
   "outputs": [],
   "source": []
  },
  {
   "cell_type": "code",
   "execution_count": null,
   "metadata": {},
   "outputs": [],
   "source": []
  },
  {
   "cell_type": "code",
   "execution_count": null,
   "metadata": {},
   "outputs": [],
   "source": []
  },
  {
   "cell_type": "code",
   "execution_count": null,
   "metadata": {},
   "outputs": [],
   "source": []
  }
 ],
 "metadata": {
  "kernelspec": {
   "display_name": "Python 3",
   "language": "python",
   "name": "python3"
  },
  "language_info": {
   "codemirror_mode": {
    "name": "ipython",
    "version": 3
   },
   "file_extension": ".py",
   "mimetype": "text/x-python",
   "name": "python",
   "nbconvert_exporter": "python",
   "pygments_lexer": "ipython3",
   "version": "3.6.4"
  }
 },
 "nbformat": 4,
 "nbformat_minor": 2
}
